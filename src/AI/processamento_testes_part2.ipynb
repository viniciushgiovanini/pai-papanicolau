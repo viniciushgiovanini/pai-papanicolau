{
 "cells": [
  {
   "cell_type": "code",
   "execution_count": 5,
   "metadata": {},
   "outputs": [],
   "source": [
    "import numpy as np\n",
    "import pandas as pd\n",
    "import matplotlib.pyplot as plt\n",
    "import sklearn\n",
    "import cv2\n",
    "import tensorflow as tf\n",
    "import os\n",
    "import shutil\n",
    "import csv\n",
    "from PIL import Image"
   ]
  },
  {
   "cell_type": "code",
   "execution_count": 2,
   "metadata": {},
   "outputs": [],
   "source": [
    "N1 = 69225 % 2"
   ]
  },
  {
   "cell_type": "markdown",
   "metadata": {},
   "source": [
    "### Calculando a área da Celula"
   ]
  },
  {
   "cell_type": "code",
   "execution_count": 17,
   "metadata": {},
   "outputs": [],
   "source": [
    "def calculaAreaPerimetroImagem(img_cv2):\n",
    "  \n",
    "  imagem_cinza = cv2.cvtColor(img_cv2, cv2.COLOR_BGR2GRAY)\n",
    "  _, mascara_binaria = cv2.threshold(imagem_cinza, 1, 255, cv2.THRESH_BINARY)\n",
    "  contornos, _ = cv2.findContours(mascara_binaria, cv2.RETR_EXTERNAL, cv2.CHAIN_APPROX_SIMPLE)\n",
    "  mascara_colorida = np.zeros_like(img_cv2)\n",
    "  cv2.drawContours(mascara_colorida, contornos, -1, (255, 255, 255), thickness=cv2.FILLED)\n",
    "\n",
    "  # Exibir a imagem original, a máscara e a parte colorida\n",
    "  area_branca = np.sum(mascara_binaria == 255)\n",
    "  \n",
    "  \n",
    "  total_perimetro = 0\n",
    "  \n",
    "  for contorno in contornos:\n",
    "    perimeter = cv2.arcLength(contorno, closed=True)\n",
    "    total_perimetro += perimeter\n",
    "  \n",
    "  return area_branca, total_perimetro\n"
   ]
  },
  {
   "cell_type": "code",
   "execution_count": 18,
   "metadata": {},
   "outputs": [],
   "source": [
    "def calcularCompacidade(img_cv2):\n",
    "  area, perimetro = calculaAreaPerimetroImagem(img_cv2)\n",
    "  \n",
    "  compacidade = area / (perimetro**2)\n",
    "  \n",
    "  return compacidade"
   ]
  },
  {
   "cell_type": "code",
   "execution_count": 16,
   "metadata": {},
   "outputs": [],
   "source": [
    "def calcularExcentricidades(img_cv2):\n",
    "  \n",
    "  imagem_cinza = cv2.cvtColor(img_cv2, cv2.COLOR_BGR2GRAY)\n",
    "  _, mascara_binaria = cv2.threshold(imagem_cinza, 1, 255, cv2.THRESH_BINARY)\n",
    "  contornos, _ = cv2.findContours(mascara_binaria, cv2.RETR_EXTERNAL, cv2.CHAIN_APPROX_SIMPLE)\n",
    "  maior_contorno = max(contornos, key=cv2.contourArea)\n",
    "\n",
    "    \n",
    "  if len(maior_contorno) >= 5:\n",
    "    (elipse_x, elipse_y), (eixo_maior, eixo_menor), _ = cv2.fitEllipse(maior_contorno)\n",
    "    # Restante do seu código\n",
    "  else:\n",
    "    return \"-\"\n",
    "\n",
    "\n",
    "  # Calcular excentricidade\n",
    "  \n",
    "  if(eixo_maior != 0 and eixo_menor != 0):\n",
    "    value_mid = round((eixo_menor / eixo_maior)**2, 2)\n",
    "  else:\n",
    "    return \"-\"\n",
    "  \n",
    "  excentricidade = round(np.sqrt(value_mid-1),2)\n",
    "  \n",
    "  return excentricidade"
   ]
  },
  {
   "cell_type": "code",
   "execution_count": 19,
   "metadata": {},
   "outputs": [
    {
     "name": "stderr",
     "output_type": "stream",
     "text": [
      "C:\\Users\\Viny\\AppData\\Local\\Temp\\ipykernel_26708\\2304978238.py:4: RuntimeWarning: divide by zero encountered in divide\n",
      "  compacidade = area / (perimetro**2)\n"
     ]
    }
   ],
   "source": [
    "csv = {'id_cel': [],\n",
    "       'area': [],\n",
    "       'compacidade': [],\n",
    "       'excenticridade': [],\n",
    "       }\n",
    "\n",
    "path_dataset_segmentation = \"./data/segmentation_dataset/\"\n",
    "\n",
    "\n",
    "for pasta_atual, subpastas, arquivos in os.walk(path_dataset_segmentation):\n",
    "    for arquivo in arquivos:\n",
    "        caminho_completo = os.path.join(pasta_atual, arquivo)\n",
    "        \n",
    "        imagem = cv2.imread(caminho_completo)\n",
    "        \n",
    "        \n",
    "        area, _ = calculaAreaPerimetroImagem(imagem)\n",
    "        \n",
    "        nomeSplit = caminho_completo.split(\"\\\\\")\n",
    "        nomeCel = nomeSplit[1].replace(\".png\", \"\")\n",
    "        \n",
    "        csv['id_cel'].append(nomeCel)\n",
    "\n",
    "        if(area > 10):\n",
    "          csv['area'].append(round(area,2))\n",
    "          csv['compacidade'].append(calcularCompacidade(imagem))\n",
    "          csv['excenticridade'].append(calcularExcentricidades(imagem))\n",
    "        else:\n",
    "          csv['area'].append(\"-\")\n",
    "          csv['compacidade'].append(\"-\")\n",
    "          csv['excenticridade'].append(\"-\")\n",
    "          \n",
    "  \n",
    "       \n",
    "          \n",
    "df = pd.DataFrame(csv)\n",
    "df.to_csv('csv_pt2.csv', index=False)"
   ]
  }
 ],
 "metadata": {
  "kernelspec": {
   "display_name": "env",
   "language": "python",
   "name": "python3"
  },
  "language_info": {
   "codemirror_mode": {
    "name": "ipython",
    "version": 3
   },
   "file_extension": ".py",
   "mimetype": "text/x-python",
   "name": "python",
   "nbconvert_exporter": "python",
   "pygments_lexer": "ipython3",
   "version": "3.11.1"
  }
 },
 "nbformat": 4,
 "nbformat_minor": 2
}
