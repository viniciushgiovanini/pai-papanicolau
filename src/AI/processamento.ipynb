{
 "cells": [
  {
   "cell_type": "code",
   "execution_count": 1,
   "metadata": {},
   "outputs": [],
   "source": [
    "import numpy as np\n",
    "import pandas as pd\n",
    "import matplotlib.pyplot as plt\n",
    "import sklearn\n",
    "import cv2\n",
    "import tensorflow as tf\n",
    "import os\n",
    "import shutil"
   ]
  },
  {
   "cell_type": "code",
   "execution_count": 4,
   "metadata": {},
   "outputs": [],
   "source": [
    "diretorio_dataset = '../AI/data/dataset/'\n",
    "diretorio_dataset_recortado = \"./data/dataset_recortado/\"\n",
    "diretorio_dataset_marcado = \"./data/tmp_img_preview/\"\n",
    "value_expand = 50"
   ]
  },
  {
   "cell_type": "code",
   "execution_count": 3,
   "metadata": {},
   "outputs": [],
   "source": [
    "# Fitrando CSV\n",
    "\n",
    "diretorio = './data/1DATASET_SAVE/'  \n",
    "\n",
    "lista_arquivos = []\n",
    "\n",
    "for nome_arquivo in os.listdir(diretorio):\n",
    "    if os.path.isfile(os.path.join(diretorio, nome_arquivo)):\n",
    "        lista_arquivos.append(nome_arquivo)\n",
    "        \n",
    "\n",
    "# lendo csv        \n",
    "df = pd.read_csv('./data/classifications.csv')\n",
    "\n",
    "# Removendo colunas inuteis do csv\n",
    "df_filtrado = df[df['image_filename'].isin(lista_arquivos)]  \n",
    "\n",
    "df_filtrado.to_csv(\"./data/filter_classifications.csv\", index=False)"
   ]
  },
  {
   "cell_type": "markdown",
   "metadata": {},
   "source": [
    "### Recortando dataset"
   ]
  },
  {
   "cell_type": "code",
   "execution_count": null,
   "metadata": {},
   "outputs": [],
   "source": [
    "# obtendo cordenadas de cada arquivo\n",
    "\n",
    "df = pd.read_csv(\"./data/classifications.csv\")\n",
    "\n",
    "for each in df.iterrows():\n",
    "  \n",
    "  nome_img = each[1]['image_filename']\n",
    "  nome_da_doenca = each[1]['bethesda_system']\n",
    "  posi_x = each[1]['nucleus_x']\n",
    "  posi_y = each[1]['nucleus_y']  \n",
    "  \n",
    "  path_imagem_dataset_original = f'{diretorio_dataset}{nome_img}'\n",
    "\n",
    "  # Verifica se a iamgem existe\n",
    "  if(os.path.isfile(path_imagem_dataset_original)):\n",
    "    # Onde ele vai ler cada imagem;\n",
    "    img = cv2.imread(path_imagem_dataset_original)\n",
    "    \n",
    "    x1 = posi_x - value_expand\n",
    "    y1 = posi_y - value_expand\n",
    "    x2 = posi_x + value_expand\n",
    "    y2 = posi_y + value_expand\n",
    "    \n",
    "    # Recortando a imagem;\n",
    "    img_recortada = img[posi_y-value_expand:posi_y+value_expand, posi_x-value_expand:posi_x+value_expand]\n",
    "    \n",
    "    # Verifica se existe um folder no destino com o nome da doenca;\n",
    "    if not os.path.exists(os.path.join(diretorio_dataset_recortado, nome_da_doenca)):\n",
    "      os.mkdir(os.path.join(diretorio_dataset_recortado, nome_da_doenca))\n",
    "      \n",
    "    # Salva a imagem recortada no novo destino\n",
    "    cv2.imwrite(f'{diretorio_dataset_recortado}{nome_da_doenca}/' + f'{nome_da_doenca}_{posi_x}_{posi_y}_{nome_img}', img_recortada)\n",
    "    \n",
    "    # Limpar a variavel cv2\n",
    "    cv2.destroyAllWindows()\n",
    "  \n",
    "  \n",
    "  \n",
    "  \n",
    "  \n",
    "  \n"
   ]
  },
  {
   "cell_type": "markdown",
   "metadata": {},
   "source": [
    "### Marcando dataset\n"
   ]
  },
  {
   "cell_type": "code",
   "execution_count": 6,
   "metadata": {},
   "outputs": [],
   "source": [
    "# obtendo cordenadas de cada arquivo\n",
    "\n",
    "df = pd.read_csv(\"./data/classifications.csv\")\n",
    "\n",
    "nome_img_selecionada = \"363b6b00d925e5c52694b8f7b678c53b.png\"\n",
    "\n",
    "if(os.path.isfile(f'./data/dataset/{nome_img_selecionada}')):\n",
    "  # shutil.copy(f'{diretorio_dataset}{nome_img_selecionada}', f'{diretorio_dataset_marcado}{nome_img_selecionada}')\n",
    "  shutil.copy(f\"./data/dataset/{nome_img_selecionada}\", f'./data/tmp_img_preview/{nome_img_selecionada}')\n",
    "\n",
    "  \n",
    "  for each in df.iterrows():\n",
    "    \n",
    "    nome_img = each[1]['image_filename']\n",
    "    nome_da_doenca = each[1]['bethesda_system']\n",
    "    posi_x = each[1]['nucleus_x']\n",
    "    posi_y = each[1]['nucleus_y']  \n",
    "    img_id = each[1]['cell_id']\n",
    "    \n",
    "    \n",
    "    if(nome_img == nome_img_selecionada):\n",
    "      \n",
    "    \n",
    "      path_imagem_dataset_original = f'{diretorio_dataset_marcado}{nome_img_selecionada}'\n",
    "\n",
    "      # Onde ele vai ler cada imagem;\n",
    "      img = cv2.imread(path_imagem_dataset_original)\n",
    "      \n",
    "      \n",
    "      x1 = posi_x - value_expand\n",
    "      y1 = posi_y - value_expand\n",
    "      x2 = posi_x + value_expand\n",
    "      y2 = posi_y + value_expand\n",
    "\n",
    "      # Fazendo o quadrado na imagem\n",
    "      img_marcada = cv2.rectangle(img, (x1, y1), (x2, y2), (0, 100, 0), 2)\n",
    "      \n",
    "      # Escrevendo o indice na imagem\n",
    "      img_marcada = cv2.putText(img_marcada, str(img_id), (posi_x-10, posi_y-55) , cv2.FONT_HERSHEY_SIMPLEX, 1, (0, 100, 0), 2) \n",
    "        \n",
    "      # Salva imagem com marcacao na propria imagem\n",
    "      cv2.imwrite(f'./data/tmp_img_preview/{nome_img_selecionada}', img_marcada)\n",
    "      \n",
    "      # Limpar a variavel cv2\n",
    "      cv2.destroyAllWindows()\n",
    "\n",
    "    \n",
    "    \n",
    "    \n",
    "    \n",
    "    \n"
   ]
  }
 ],
 "metadata": {
  "kernelspec": {
   "display_name": "Python 3",
   "language": "python",
   "name": "python3"
  },
  "language_info": {
   "codemirror_mode": {
    "name": "ipython",
    "version": 3
   },
   "file_extension": ".py",
   "mimetype": "text/x-python",
   "name": "python",
   "nbconvert_exporter": "python",
   "pygments_lexer": "ipython3",
   "version": "3.11.1"
  }
 },
 "nbformat": 4,
 "nbformat_minor": 2
}
