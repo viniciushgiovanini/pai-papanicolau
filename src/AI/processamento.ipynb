{
 "cells": [
  {
   "cell_type": "code",
   "execution_count": 4,
   "metadata": {},
   "outputs": [],
   "source": [
    "import numpy as np\n",
    "import pandas as pd\n",
    "import matplotlib.pyplot as plt\n",
    "import sklearn\n",
    "import cv2\n",
    "import tensorflow as tf\n",
    "import os"
   ]
  },
  {
   "cell_type": "code",
   "execution_count": 31,
   "metadata": {},
   "outputs": [],
   "source": [
    "diretorio = '../AI/dataset/'  \n",
    "\n",
    "lista_arquivos = []\n",
    "\n",
    "for nome_arquivo in os.listdir(diretorio):\n",
    "    if os.path.isfile(os.path.join(diretorio, nome_arquivo)):\n",
    "        lista_arquivos.append(nome_arquivo)\n",
    "        \n",
    "\n",
    "# lendo csv        \n",
    "df = pd.read_csv('./data/classifications.csv')\n",
    "\n",
    "# Removendo colunas inuteis do csv\n",
    "df_filtrado = df[df['image_filename'].isin(lista_arquivos)]  \n",
    "\n",
    "df_filtrado.to_csv(\"./data/filter_classifications.csv\", index=False)"
   ]
  },
  {
   "cell_type": "code",
   "execution_count": null,
   "metadata": {},
   "outputs": [],
   "source": [
    "# obtendo cordenadas de cada arquivo\n",
    "\n",
    "df = pd.read_csv(\"./data/filter_classifications.csv\")\n",
    "\n",
    "for each in df.iterrows():\n",
    "  \n",
    "  nome_img = each[1]['image_filename']\n",
    "  nome_da_doenca = each[1]['bethesda_system']\n",
    "  posi_x = each[1]['nucleus_x']\n",
    "  posi_y = each[1]['nucleus_y']  \n",
    "  \n",
    "  \n"
   ]
  }
 ],
 "metadata": {
  "kernelspec": {
   "display_name": "Python 3",
   "language": "python",
   "name": "python3"
  },
  "language_info": {
   "codemirror_mode": {
    "name": "ipython",
    "version": 3
   },
   "file_extension": ".py",
   "mimetype": "text/x-python",
   "name": "python",
   "nbconvert_exporter": "python",
   "pygments_lexer": "ipython3",
   "version": "3.11.1"
  }
 },
 "nbformat": 4,
 "nbformat_minor": 2
}
